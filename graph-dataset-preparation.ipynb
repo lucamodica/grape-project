{
 "cells": [
  {
   "cell_type": "markdown",
   "metadata": {},
   "source": [
    "# Graph dataset preparation for PyTorch Geometric\n",
    "---"
   ]
  },
  {
   "cell_type": "markdown",
   "metadata": {},
   "source": [
    "## Imports"
   ]
  },
  {
   "cell_type": "code",
   "execution_count": 1,
   "metadata": {},
   "outputs": [],
   "source": [
    "import pandas as pd\n",
    "import numpy as np\n",
    "import matplotlib.pyplot as plt\n",
    "import seaborn as sns\n",
    "import os.path as osp\n",
    "import torch\n",
    "from torch_geometric.data import Dataset, download_url, Data"
   ]
  },
  {
   "cell_type": "markdown",
   "metadata": {},
   "source": [
    "## Read the embedded data"
   ]
  },
  {
   "cell_type": "code",
   "execution_count": 2,
   "metadata": {},
   "outputs": [],
   "source": [
    "nodes = pd.read_parquet('data/amazon_product_data_word2vec.parquet')\n",
    "edges = pd.read_parquet('data/amazon_product_edges_filtered.parquet')"
   ]
  },
  {
   "cell_type": "code",
   "execution_count": 3,
   "metadata": {},
   "outputs": [
    {
     "name": "stdout",
     "output_type": "stream",
     "text": [
      "(729819, 6)\n",
      "(680548, 2)\n"
     ]
    }
   ],
   "source": [
    "print(nodes.shape)\n",
    "print(edges.shape)"
   ]
  },
  {
   "cell_type": "code",
   "execution_count": 4,
   "metadata": {},
   "outputs": [
    {
     "name": "stdout",
     "output_type": "stream",
     "text": [
      "Number of 'from_asin' ASINs not in nodes: 0\n",
      "Number of 'to_asin' ASINs not in nodes: 0\n"
     ]
    }
   ],
   "source": [
    "# Convert ASINs to strings in both DataFrames\n",
    "nodes['asin'] = nodes['asin'].astype(str)\n",
    "edges['from_asin'] = edges['from_asin'].astype(str)\n",
    "edges['to_asin'] = edges['to_asin'].astype(str)\n",
    "# Identify missing ASINs in 'from_asin'\n",
    "missing_from_asins = set(edges['from_asin']) - set(nodes['asin'])\n",
    "print(f\"Number of 'from_asin' ASINs not in nodes: {len(missing_from_asins)}\")\n",
    "\n",
    "# Identify missing ASINs in 'to_asin'\n",
    "missing_to_asins = set(edges['to_asin']) - set(nodes['asin'])\n",
    "print(f\"Number of 'to_asin' ASINs not in nodes: {len(missing_to_asins)}\")"
   ]
  },
  {
   "cell_type": "code",
   "execution_count": 5,
   "metadata": {},
   "outputs": [],
   "source": [
    "import torch\n",
    "from torch_geometric.data import Data\n",
    "from sklearn.preprocessing import LabelEncoder\n",
    "import pandas as pd\n",
    "\n",
    "def create_node_features(nodes, method='concat'):\n",
    "    node_features = []\n",
    "    for i in range(len(nodes)):\n",
    "        embeddings = [\n",
    "            torch.tensor(nodes.iloc[i]['title_embedding'], dtype=torch.float),\n",
    "            torch.tensor(nodes.iloc[i]['brand_embedding'], dtype=torch.float),\n",
    "            torch.tensor(nodes.iloc[i]['description_embedding'], dtype=torch.float),\n",
    "            torch.tensor(nodes.iloc[i]['categories_embedding'], dtype=torch.float)\n",
    "        ]\n",
    "        if method == 'concat':\n",
    "            features = torch.cat(embeddings, dim=0)\n",
    "        elif method == 'sum':\n",
    "            features = sum(embeddings)\n",
    "        else:\n",
    "            raise ValueError(f\"Unknown fusion method: {method}\")\n",
    "        node_features.append(features)\n",
    "    node_features = torch.stack(node_features, dim=0)\n",
    "    return node_features\n",
    "\n",
    "def create_edge_index(nodes, edges):\n",
    "    asin_to_index = {asin: i for i, asin in enumerate(nodes['asin'])}\n",
    "    edge_index_list = []\n",
    "    # Using iterrows() to iterate over edges\n",
    "    for idx, row in edges.iterrows():\n",
    "        source_asin = row['from_asin']\n",
    "        target_asin = row['to_asin']\n",
    "        source = asin_to_index[source_asin]\n",
    "        target = asin_to_index[target_asin]\n",
    "        edge_index_list.append([source, target])\n",
    "    edge_index = torch.tensor(edge_index_list, dtype=torch.long).t().contiguous()\n",
    "    return edge_index\n",
    "\n",
    "def create_labels(nodes):\n",
    "    encoder = LabelEncoder()\n",
    "    y = encoder.fit_transform(nodes['main_category'])\n",
    "    labels = torch.tensor(y, dtype=torch.long)\n",
    "    return labels\n",
    "\n",
    "def create_and_save_graph_data(nodes, edges, fusion_method, filename):\n",
    "    # Ensure ASINs are strings\n",
    "    nodes['asin'] = nodes['asin'].astype(str)\n",
    "    edges['from_asin'] = edges['from_asin'].astype(str)\n",
    "    edges['to_asin'] = edges['to_asin'].astype(str)\n",
    "\n",
    "    # Filter edges to only include ASINs present in nodes\n",
    "    valid_edges = edges[\n",
    "        edges['from_asin'].isin(nodes['asin']) & edges['to_asin'].isin(nodes['asin'])\n",
    "    ].reset_index(drop=True)\n",
    "\n",
    "    # Create node features\n",
    "    node_features = create_node_features(nodes, method=fusion_method)\n",
    "    # Create edge index\n",
    "    edge_index = create_edge_index(nodes, valid_edges)\n",
    "    # Create labels\n",
    "    labels = create_labels(nodes)\n",
    "    # Create the graph data object\n",
    "    data = Data(x=node_features, edge_index=edge_index, y=labels)\n",
    "    # Save the data to a file\n",
    "    torch.save(data, filename)\n",
    "    # Print information\n",
    "    print(f\"Data saved to {filename}\")\n",
    "    print(f\"Node feature size for method '{fusion_method}':\", data.x[0].size())"
   ]
  },
  {
   "cell_type": "code",
   "execution_count": 6,
   "metadata": {},
   "outputs": [
    {
     "name": "stdout",
     "output_type": "stream",
     "text": [
      "Data saved to data/amazon_product_data_sum_all.pt\n",
      "Node feature size for method 'sum': torch.Size([300])\n"
     ]
    }
   ],
   "source": [
    "# Create and save data with concatenation\n",
    "# create_and_save_graph_data(\n",
    "#     nodes, edges, fusion_method='concat', filename='data/amazon_product_data_concat.pt'\n",
    "# )\n",
    "\n",
    "# Create and save data with summing\n",
    "create_and_save_graph_data(\n",
    "    nodes, edges, fusion_method='sum', filename='data/amazon_product_data_sum_all.pt'\n",
    ")"
   ]
  }
 ],
 "metadata": {
  "kernelspec": {
   "display_name": "rigged",
   "language": "python",
   "name": "python3"
  },
  "language_info": {
   "codemirror_mode": {
    "name": "ipython",
    "version": 3
   },
   "file_extension": ".py",
   "mimetype": "text/x-python",
   "name": "python",
   "nbconvert_exporter": "python",
   "pygments_lexer": "ipython3",
   "version": "3.11.10"
  }
 },
 "nbformat": 4,
 "nbformat_minor": 2
}
