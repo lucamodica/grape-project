{
 "cells": [
  {
   "cell_type": "markdown",
   "metadata": {},
   "source": [
    "# Graph dataset preparation for PyTorch Geometric\n",
    "---"
   ]
  },
  {
   "cell_type": "markdown",
   "metadata": {},
   "source": [
    "## Imports"
   ]
  },
  {
   "cell_type": "code",
   "execution_count": 14,
   "metadata": {},
   "outputs": [],
   "source": [
    "import pandas as pd\n",
    "import numpy as np\n",
    "import matplotlib.pyplot as plt\n",
    "import seaborn as sns\n",
    "import os.path as osp\n",
    "import torch\n",
    "from torch_geometric.data import Dataset, download_url, Data"
   ]
  },
  {
   "cell_type": "markdown",
   "metadata": {},
   "source": [
    "## Read the embedded data"
   ]
  },
  {
   "cell_type": "code",
   "execution_count": 9,
   "metadata": {},
   "outputs": [],
   "source": [
    "nodes = pd.read_parquet('data/amazon_product_data_word2vec.parquet')\n",
    "edges = pd.read_parquet('data/amazon_product_edges_filtered.parquet')"
   ]
  },
  {
   "cell_type": "code",
   "execution_count": 10,
   "metadata": {},
   "outputs": [
    {
     "name": "stdout",
     "output_type": "stream",
     "text": [
      "(729819, 6)\n",
      "(680548, 2)\n"
     ]
    }
   ],
   "source": [
    "print(nodes.shape)\n",
    "print(edges.shape)"
   ]
  },
  {
   "cell_type": "code",
   "execution_count": 11,
   "metadata": {},
   "outputs": [
    {
     "name": "stdout",
     "output_type": "stream",
     "text": [
      "Number of 'from_asin' ASINs not in nodes: 0\n",
      "Number of 'to_asin' ASINs not in nodes: 0\n"
     ]
    }
   ],
   "source": [
    "# Convert ASINs to strings in both DataFrames\n",
    "nodes['asin'] = nodes['asin'].astype(str)\n",
    "edges['from_asin'] = edges['from_asin'].astype(str)\n",
    "edges['to_asin'] = edges['to_asin'].astype(str)\n",
    "# Identify missing ASINs in 'from_asin'\n",
    "missing_from_asins = set(edges['from_asin']) - set(nodes['asin'])\n",
    "print(f\"Number of 'from_asin' ASINs not in nodes: {len(missing_from_asins)}\")\n",
    "\n",
    "# Identify missing ASINs in 'to_asin'\n",
    "missing_to_asins = set(edges['to_asin']) - set(nodes['asin'])\n",
    "print(f\"Number of 'to_asin' ASINs not in nodes: {len(missing_to_asins)}\")"
   ]
  },
  {
   "cell_type": "code",
   "execution_count": 12,
   "metadata": {},
   "outputs": [],
   "source": [
    "import torch\n",
    "from torch_geometric.data import Data\n",
    "from sklearn.preprocessing import LabelEncoder\n",
    "import pandas as pd\n",
    "\n",
    "def create_node_features(nodes, method='concat'):\n",
    "    node_features = []\n",
    "    for i in range(len(nodes)):\n",
    "        embeddings = [\n",
    "            torch.tensor(nodes.iloc[i]['title_embedding'], dtype=torch.float),\n",
    "            torch.tensor(nodes.iloc[i]['brand_embedding'], dtype=torch.float),\n",
    "            torch.tensor(nodes.iloc[i]['description_embedding'], dtype=torch.float),\n",
    "            torch.tensor(nodes.iloc[i]['categories_embedding'], dtype=torch.float)\n",
    "        ]\n",
    "        if method == 'concat':\n",
    "            features = torch.cat(embeddings, dim=0)\n",
    "        elif method == 'sum':\n",
    "            features = sum(embeddings)\n",
    "        else:\n",
    "            raise ValueError(f\"Unknown fusion method: {method}\")\n",
    "        node_features.append(features)\n",
    "    node_features = torch.stack(node_features, dim=0)\n",
    "    return node_features\n",
    "\n",
    "def create_edge_index(nodes, edges):\n",
    "    asin_to_index = {asin: i for i, asin in enumerate(nodes['asin'])}\n",
    "    edge_index_list = []\n",
    "    # Using iterrows() to iterate over edges\n",
    "    for idx, row in edges.iterrows():\n",
    "        source_asin = row['from_asin']\n",
    "        target_asin = row['to_asin']\n",
    "        source = asin_to_index[source_asin]\n",
    "        target = asin_to_index[target_asin]\n",
    "        edge_index_list.append([source, target])\n",
    "    edge_index = torch.tensor(edge_index_list, dtype=torch.long).t().contiguous()\n",
    "    return edge_index\n",
    "\n",
    "def create_labels(nodes):\n",
    "    encoder = LabelEncoder()\n",
    "    y = encoder.fit_transform(nodes['main_category'])\n",
    "    labels = torch.tensor(y, dtype=torch.long)\n",
    "    return labels\n",
    "\n",
    "def create_and_save_graph_data(nodes, edges, fusion_method, filename):\n",
    "    # Ensure ASINs are strings\n",
    "    nodes['asin'] = nodes['asin'].astype(str)\n",
    "    edges['from_asin'] = edges['from_asin'].astype(str)\n",
    "    edges['to_asin'] = edges['to_asin'].astype(str)\n",
    "\n",
    "    # Filter edges to only include ASINs present in nodes\n",
    "    valid_edges = edges[\n",
    "        edges['from_asin'].isin(nodes['asin']) & edges['to_asin'].isin(nodes['asin'])\n",
    "    ].reset_index(drop=True)\n",
    "\n",
    "    # Create node features\n",
    "    node_features = create_node_features(nodes, method=fusion_method)\n",
    "    # Create edge index\n",
    "    edge_index = create_edge_index(nodes, valid_edges)\n",
    "    # Create labels\n",
    "    labels = create_labels(nodes)\n",
    "    # Create the graph data object\n",
    "    data = Data(x=node_features, edge_index=edge_index, y=labels)\n",
    "    # Save the data to a file\n",
    "    torch.save(data, filename)\n",
    "    # Print information\n",
    "    print(f\"Data saved to {filename}\")\n",
    "    print(f\"Node feature size for method '{fusion_method}':\", data.x[0].size())"
   ]
  },
  {
   "cell_type": "code",
   "execution_count": 13,
   "metadata": {},
   "outputs": [
    {
     "ename": "RuntimeError",
     "evalue": "[enforce fail at inline_container.cc:337] . unexpected pos 832 vs 754",
     "output_type": "error",
     "traceback": [
      "\u001b[0;31m---------------------------------------------------------------------------\u001b[0m",
      "\u001b[0;31mRuntimeError\u001b[0m                              Traceback (most recent call last)",
      "File \u001b[0;32m~/anaconda3/envs/rigged/lib/python3.10/site-packages/torch/serialization.py:441\u001b[0m, in \u001b[0;36msave\u001b[0;34m(obj, f, pickle_module, pickle_protocol, _use_new_zipfile_serialization)\u001b[0m\n\u001b[1;32m    440\u001b[0m \u001b[38;5;28;01mwith\u001b[39;00m _open_zipfile_writer(f) \u001b[38;5;28;01mas\u001b[39;00m opened_zipfile:\n\u001b[0;32m--> 441\u001b[0m     \u001b[43m_save\u001b[49m\u001b[43m(\u001b[49m\u001b[43mobj\u001b[49m\u001b[43m,\u001b[49m\u001b[43m \u001b[49m\u001b[43mopened_zipfile\u001b[49m\u001b[43m,\u001b[49m\u001b[43m \u001b[49m\u001b[43mpickle_module\u001b[49m\u001b[43m,\u001b[49m\u001b[43m \u001b[49m\u001b[43mpickle_protocol\u001b[49m\u001b[43m)\u001b[49m\n\u001b[1;32m    442\u001b[0m     \u001b[38;5;28;01mreturn\u001b[39;00m\n",
      "File \u001b[0;32m~/anaconda3/envs/rigged/lib/python3.10/site-packages/torch/serialization.py:668\u001b[0m, in \u001b[0;36m_save\u001b[0;34m(obj, zip_file, pickle_module, pickle_protocol)\u001b[0m\n\u001b[1;32m    667\u001b[0m num_bytes \u001b[38;5;241m=\u001b[39m storage\u001b[38;5;241m.\u001b[39mnbytes()\n\u001b[0;32m--> 668\u001b[0m \u001b[43mzip_file\u001b[49m\u001b[38;5;241;43m.\u001b[39;49m\u001b[43mwrite_record\u001b[49m\u001b[43m(\u001b[49m\u001b[43mname\u001b[49m\u001b[43m,\u001b[49m\u001b[43m \u001b[49m\u001b[43mstorage\u001b[49m\u001b[38;5;241;43m.\u001b[39;49m\u001b[43mdata_ptr\u001b[49m\u001b[43m(\u001b[49m\u001b[43m)\u001b[49m\u001b[43m,\u001b[49m\u001b[43m \u001b[49m\u001b[43mnum_bytes\u001b[49m\u001b[43m)\u001b[49m\n",
      "\u001b[0;31mRuntimeError\u001b[0m: [enforce fail at inline_container.cc:476] . PytorchStreamWriter failed writing file data/0: file write failed",
      "\nDuring handling of the above exception, another exception occurred:\n",
      "\u001b[0;31mRuntimeError\u001b[0m                              Traceback (most recent call last)",
      "Cell \u001b[0;32mIn[13], line 2\u001b[0m\n\u001b[1;32m      1\u001b[0m \u001b[38;5;66;03m# Create and save data with concatenation\u001b[39;00m\n\u001b[0;32m----> 2\u001b[0m \u001b[43mcreate_and_save_graph_data\u001b[49m\u001b[43m(\u001b[49m\n\u001b[1;32m      3\u001b[0m \u001b[43m    \u001b[49m\u001b[43mnodes\u001b[49m\u001b[43m,\u001b[49m\u001b[43m \u001b[49m\u001b[43medges\u001b[49m\u001b[43m,\u001b[49m\u001b[43m \u001b[49m\u001b[43mfusion_method\u001b[49m\u001b[38;5;241;43m=\u001b[39;49m\u001b[38;5;124;43m'\u001b[39;49m\u001b[38;5;124;43mconcat\u001b[39;49m\u001b[38;5;124;43m'\u001b[39;49m\u001b[43m,\u001b[49m\u001b[43m \u001b[49m\u001b[43mfilename\u001b[49m\u001b[38;5;241;43m=\u001b[39;49m\u001b[38;5;124;43m'\u001b[39;49m\u001b[38;5;124;43mdata/amazon_product_data_concat.pt\u001b[39;49m\u001b[38;5;124;43m'\u001b[39;49m\n\u001b[1;32m      4\u001b[0m \u001b[43m)\u001b[49m\n\u001b[1;32m      6\u001b[0m \u001b[38;5;66;03m# Create and save data with summing\u001b[39;00m\n\u001b[1;32m      7\u001b[0m create_and_save_graph_data(\n\u001b[1;32m      8\u001b[0m     nodes, edges, fusion_method\u001b[38;5;241m=\u001b[39m\u001b[38;5;124m'\u001b[39m\u001b[38;5;124msum\u001b[39m\u001b[38;5;124m'\u001b[39m, filename\u001b[38;5;241m=\u001b[39m\u001b[38;5;124m'\u001b[39m\u001b[38;5;124mdata/amazon_product_data_sum.pt\u001b[39m\u001b[38;5;124m'\u001b[39m\n\u001b[1;32m      9\u001b[0m )\n",
      "Cell \u001b[0;32mIn[12], line 64\u001b[0m, in \u001b[0;36mcreate_and_save_graph_data\u001b[0;34m(nodes, edges, fusion_method, filename)\u001b[0m\n\u001b[1;32m     62\u001b[0m data \u001b[38;5;241m=\u001b[39m Data(x\u001b[38;5;241m=\u001b[39mnode_features, edge_index\u001b[38;5;241m=\u001b[39medge_index, y\u001b[38;5;241m=\u001b[39mlabels)\n\u001b[1;32m     63\u001b[0m \u001b[38;5;66;03m# Save the data to a file\u001b[39;00m\n\u001b[0;32m---> 64\u001b[0m \u001b[43mtorch\u001b[49m\u001b[38;5;241;43m.\u001b[39;49m\u001b[43msave\u001b[49m\u001b[43m(\u001b[49m\u001b[43mdata\u001b[49m\u001b[43m,\u001b[49m\u001b[43m \u001b[49m\u001b[43mfilename\u001b[49m\u001b[43m)\u001b[49m\n\u001b[1;32m     65\u001b[0m \u001b[38;5;66;03m# Print information\u001b[39;00m\n\u001b[1;32m     66\u001b[0m \u001b[38;5;28mprint\u001b[39m(\u001b[38;5;124mf\u001b[39m\u001b[38;5;124m\"\u001b[39m\u001b[38;5;124mData saved to \u001b[39m\u001b[38;5;132;01m{\u001b[39;00mfilename\u001b[38;5;132;01m}\u001b[39;00m\u001b[38;5;124m\"\u001b[39m)\n",
      "File \u001b[0;32m~/anaconda3/envs/rigged/lib/python3.10/site-packages/torch/serialization.py:440\u001b[0m, in \u001b[0;36msave\u001b[0;34m(obj, f, pickle_module, pickle_protocol, _use_new_zipfile_serialization)\u001b[0m\n\u001b[1;32m    437\u001b[0m _check_save_filelike(f)\n\u001b[1;32m    439\u001b[0m \u001b[38;5;28;01mif\u001b[39;00m _use_new_zipfile_serialization:\n\u001b[0;32m--> 440\u001b[0m     \u001b[38;5;28;01mwith\u001b[39;00m _open_zipfile_writer(f) \u001b[38;5;28;01mas\u001b[39;00m opened_zipfile:\n\u001b[1;32m    441\u001b[0m         _save(obj, opened_zipfile, pickle_module, pickle_protocol)\n\u001b[1;32m    442\u001b[0m         \u001b[38;5;28;01mreturn\u001b[39;00m\n",
      "File \u001b[0;32m~/anaconda3/envs/rigged/lib/python3.10/site-packages/torch/serialization.py:291\u001b[0m, in \u001b[0;36m_open_zipfile_writer_file.__exit__\u001b[0;34m(self, *args)\u001b[0m\n\u001b[1;32m    290\u001b[0m \u001b[38;5;28;01mdef\u001b[39;00m \u001b[38;5;21m__exit__\u001b[39m(\u001b[38;5;28mself\u001b[39m, \u001b[38;5;241m*\u001b[39margs) \u001b[38;5;241m-\u001b[39m\u001b[38;5;241m>\u001b[39m \u001b[38;5;28;01mNone\u001b[39;00m:\n\u001b[0;32m--> 291\u001b[0m     \u001b[38;5;28;43mself\u001b[39;49m\u001b[38;5;241;43m.\u001b[39;49m\u001b[43mfile_like\u001b[49m\u001b[38;5;241;43m.\u001b[39;49m\u001b[43mwrite_end_of_file\u001b[49m\u001b[43m(\u001b[49m\u001b[43m)\u001b[49m\n",
      "\u001b[0;31mRuntimeError\u001b[0m: [enforce fail at inline_container.cc:337] . unexpected pos 832 vs 754"
     ]
    }
   ],
   "source": [
    "# Create and save data with concatenation\n",
    "create_and_save_graph_data(\n",
    "    nodes, edges, fusion_method='concat', filename='data/amazon_product_data_concat.pt'\n",
    ")\n",
    "\n",
    "# Create and save data with summing\n",
    "# create_and_save_graph_data(\n",
    "#     nodes, edges, fusion_method='sum', filename='data/amazon_product_data_sum.pt'\n",
    "# )"
   ]
  }
 ],
 "metadata": {
  "kernelspec": {
   "display_name": "rigged",
   "language": "python",
   "name": "python3"
  },
  "language_info": {
   "codemirror_mode": {
    "name": "ipython",
    "version": 3
   },
   "file_extension": ".py",
   "mimetype": "text/x-python",
   "name": "python",
   "nbconvert_exporter": "python",
   "pygments_lexer": "ipython3",
   "version": "3.10.15"
  }
 },
 "nbformat": 4,
 "nbformat_minor": 2
}
