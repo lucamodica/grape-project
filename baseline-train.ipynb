{
 "cells": [
  {
   "cell_type": "code",
   "execution_count": 1,
   "metadata": {},
   "outputs": [
    {
     "name": "stderr",
     "output_type": "stream",
     "text": [
      "/Users/hugo/anaconda3/envs/rigged/lib/python3.10/site-packages/tqdm/auto.py:21: TqdmWarning: IProgress not found. Please update jupyter and ipywidgets. See https://ipywidgets.readthedocs.io/en/stable/user_install.html\n",
      "  from .autonotebook import tqdm as notebook_tqdm\n"
     ]
    }
   ],
   "source": [
    "import torch\n",
    "#from torch_geometric.datasets import Reddit, Amazon\n",
    "#from torch_geometric.utils import to_networkx\n",
    "import matplotlib.pyplot as plt\n",
    "#import networkx as nx\n",
    "import numpy as np\n",
    "import pandas as pd\n",
    "from sklearn.model_selection import train_test_split\n",
    "from torch.utils.data import DataLoader, TensorDataset\n",
    "#from torch.functional import F\n",
    "#rom torch_geometric.nn import GCNConv, GATConv\n",
    "from torch_geometric.loader import NeighborLoader\n",
    "from torch_geometric.data import Data\n",
    "#import torch.optim as optim\n",
    "#import seaborn as sns\n",
    "from baseline_models import *\n",
    "#import tqdm\n",
    "#from sklearn.manifold import TSNE\n",
    "#from umap import UMAP\n",
    "#import logging\n",
    "#import concurrent\n",
    "\n",
    "np.random.seed(0)"
   ]
  },
  {
   "cell_type": "code",
   "execution_count": 2,
   "metadata": {},
   "outputs": [],
   "source": [
    "# Assuming `data` is loaded with the node features (x) and labels (y)\n",
    "data = torch.load('data/amazon_product_data_no_categories.pt')"
   ]
  },
  {
   "cell_type": "code",
   "execution_count": 3,
   "metadata": {},
   "outputs": [],
   "source": [
    "# Extract node features and labels\n",
    "node_features = data.x\n",
    "node_labels = data.y\n",
    "\n",
    "# Train-test split\n",
    "x_train, x_test, y_train, y_test = train_test_split(node_features, node_labels, test_size=0.2, random_state=42)\n",
    "x_test, x_val, y_test, y_val = train_test_split(x_test, y_test, test_size=0.5, random_state=42)\n",
    "\n",
    "# Create a TensorDataset for each dataset\n",
    "train_dataset = TensorDataset(x_train, y_train)\n",
    "val_dataset = TensorDataset(x_val, y_val)\n",
    "test_dataset = TensorDataset(x_test, y_test)\n",
    "\n",
    "# Create a DataLoader for the training, validation, and test node sets\n",
    "train_loader = DataLoader(train_dataset, batch_size=64, shuffle=True)\n",
    "val_loader = DataLoader(val_dataset, batch_size=64, shuffle=False)\n",
    "test_loader = DataLoader(test_dataset, batch_size=64, shuffle=False)"
   ]
  },
  {
   "cell_type": "code",
   "execution_count": 4,
   "metadata": {},
   "outputs": [],
   "source": [
    "from sklearn.metrics import f1_score, balanced_accuracy_score\n",
    "\n",
    "\n",
    "def accuracy(predictions, labels):\n",
    "    correct = (predictions.argmax(dim=1) == labels).sum().item()\n",
    "    total = labels.size(0)\n",
    "    return correct / total\n",
    "\n",
    "\n",
    "def f1(predictions, labels):\n",
    "    preds = predictions.argmax(dim=1).cpu().numpy()\n",
    "    labels = labels.cpu().numpy()\n",
    "    return f1_score(labels, preds, average='weighted')\n",
    "  \n",
    "def balanced_accuracy(predictions, labels):\n",
    "    preds = predictions.argmax(dim=1).cpu().numpy()\n",
    "    labels = labels.cpu().numpy()\n",
    "    return balanced_accuracy_score(labels, preds)"
   ]
  },
  {
   "cell_type": "code",
   "execution_count": 5,
   "metadata": {},
   "outputs": [],
   "source": [
    "# Define the training and validation loops (as before, without edge_index)\n",
    "\n",
    "def train_epoch(model, optimizer, loss_fn, train_loader, device, metrics):\n",
    "    model.train()\n",
    "    all_preds = []\n",
    "    all_labels = []\n",
    "    losses = []\n",
    "\n",
    "    for x_batch, y_batch in train_loader:\n",
    "        optimizer.zero_grad()\n",
    "        x_batch, y_batch = x_batch.to(device), y_batch.to(device)\n",
    "\n",
    "        out = model(x_batch)\n",
    "        loss = loss_fn(out, y_batch)\n",
    "        loss.backward()\n",
    "        optimizer.step()\n",
    "\n",
    "        losses.append(loss.item())\n",
    "        all_preds.append(out.detach().cpu())\n",
    "        all_labels.append(y_batch.detach().cpu())\n",
    "\n",
    "    all_preds = torch.cat(all_preds)\n",
    "    all_labels = torch.cat(all_labels)\n",
    "\n",
    "    avg_metrics = {metric_name: metric_fn(all_preds, all_labels) for metric_name, metric_fn in metrics.items()}\n",
    "    avg_loss = np.mean(losses)\n",
    "\n",
    "    return avg_loss, avg_metrics\n",
    "\n",
    "@torch.no_grad()\n",
    "def validate(model, loss_fn, val_loader, device, metrics):\n",
    "    model.eval()\n",
    "    all_preds = []\n",
    "    all_labels = []\n",
    "    losses = []\n",
    "\n",
    "    for x_batch, y_batch in val_loader:\n",
    "        x_batch, y_batch = x_batch.to(device), y_batch.to(device)\n",
    "        out = model(x_batch)\n",
    "        loss = loss_fn(out, y_batch)\n",
    "\n",
    "        losses.append(loss.item())\n",
    "        all_preds.append(out.detach().cpu())\n",
    "        all_labels.append(y_batch.detach().cpu())\n",
    "\n",
    "    all_preds = torch.cat(all_preds)\n",
    "    all_labels = torch.cat(all_labels)\n",
    "\n",
    "    avg_metrics = {metric_name: metric_fn(all_preds, all_labels) for metric_name, metric_fn in metrics.items()}\n",
    "    avg_loss = np.mean(losses)\n",
    "\n",
    "    return avg_loss, avg_metrics\n",
    "\n",
    "# Training loop remains unchanged (just ensure you are passing the right DataLoader now)\n",
    "\n",
    "def training_loop(model, optimizer, loss_fn, train_loader, val_loader, num_epochs, device, metrics):\n",
    "    print(\"Starting training\")\n",
    "    train_losses, val_losses = [], []\n",
    "    train_metrics_history = {metric_name: [] for metric_name in metrics}\n",
    "    val_metrics_history = {metric_name: [] for metric_name in metrics}\n",
    "\n",
    "    for epoch in range(1, num_epochs + 1):\n",
    "        # Training\n",
    "        train_loss, train_metrics = train_epoch(model, optimizer, loss_fn, train_loader, device, metrics)\n",
    "        # Validation\n",
    "        val_loss, val_metrics = validate(model, loss_fn, val_loader, device, metrics)\n",
    "        \n",
    "        # Logging results\n",
    "        train_losses.append(train_loss)\n",
    "        val_losses.append(val_loss)\n",
    "        for metric_name in metrics:\n",
    "            train_metrics_history[metric_name].append(train_metrics[metric_name])\n",
    "            val_metrics_history[metric_name].append(val_metrics[metric_name])\n",
    "\n",
    "        metrics_str = ', '.join(\n",
    "            [f'{metric_name}: {train_metrics[metric_name]:.3f} (train), {val_metrics[metric_name]:.3f} (val)'\n",
    "             for metric_name in metrics])\n",
    "        print(\n",
    "            f\"Epoch {epoch}/{num_epochs}: \"\n",
    "            f\"Loss: {train_loss:.3f} (train), {val_loss:.3f} (val), \"\n",
    "            f\"{metrics_str}\"\n",
    "        )\n",
    "\n",
    "    return model, train_losses, val_losses, train_metrics_history, val_metrics_history\n",
    "\n"
   ]
  },
  {
   "cell_type": "code",
   "execution_count": 6,
   "metadata": {},
   "outputs": [],
   "source": [
    "device = torch.device('cuda' if torch.cuda.is_available() else 'cpu')\n",
    "x_train = x_train.to(device)\n",
    "x_val = x_val.to(device)\n",
    "x_test = x_test.to(device)\n",
    "y_train = y_train.to(device)\n",
    "y_val = y_val.to(device)\n",
    "y_test = y_test.to(device)\n",
    "learning_rate = 0.01  \n",
    "batch_size = 64"
   ]
  },
  {
   "cell_type": "code",
   "execution_count": 7,
   "metadata": {},
   "outputs": [],
   "source": [
    "def experiment(model, train_loader, val_loader):\n",
    "  print(model.__class__.__name__)\n",
    "  \n",
    "  optimizer = torch.optim.Adam(\n",
    "      model.parameters(), lr=learning_rate)\n",
    "  \n",
    "  loss_fn = torch.nn.CrossEntropyLoss()\n",
    "  \n",
    "  metrics = {\n",
    "    'accuracy': accuracy,\n",
    "    'f1': f1,\n",
    "    'balanced_accuracy': balanced_accuracy,\n",
    "  }\n",
    "  \n",
    "  # Train the model\n",
    "  model, train_losses, val_losses, train_metrics_history, val_metrics_history = training_loop(\n",
    "    model, optimizer, loss_fn, train_loader, val_loader, num_epochs=10, device=device, metrics=metrics\n",
    "  )\n",
    "  \n",
    "  return {\n",
    "    'model': model,\n",
    "    'train_losses': train_losses,\n",
    "    'val_losses': val_losses,\n",
    "    'train_metrics_history': train_metrics_history,\n",
    "    'val_metrics_history': val_metrics_history\n",
    "  }"
   ]
  },
  {
   "cell_type": "code",
   "execution_count": 8,
   "metadata": {},
   "outputs": [
    {
     "name": "stdout",
     "output_type": "stream",
     "text": [
      "MLP\n",
      "Starting training\n",
      "Epoch 1/10: Loss: 1.565 (train), 1.424 (val), accuracy: 0.489 (train), 0.544 (val), f1: 0.481 (train), 0.535 (val), balanced_accuracy: 0.474 (train), 0.527 (val)\n",
      "Epoch 2/10: Loss: 1.309 (train), 1.253 (val), accuracy: 0.586 (train), 0.606 (val), f1: 0.583 (train), 0.599 (val), balanced_accuracy: 0.578 (train), 0.592 (val)\n",
      "Epoch 3/10: Loss: 1.221 (train), 1.203 (val), accuracy: 0.617 (train), 0.624 (val), f1: 0.615 (train), 0.624 (val), balanced_accuracy: 0.609 (train), 0.617 (val)\n",
      "Epoch 4/10: Loss: 1.186 (train), 1.192 (val), accuracy: 0.630 (train), 0.628 (val), f1: 0.627 (train), 0.629 (val), balanced_accuracy: 0.621 (train), 0.622 (val)\n",
      "Epoch 5/10: Loss: 1.167 (train), 1.167 (val), accuracy: 0.636 (train), 0.638 (val), f1: 0.634 (train), 0.637 (val), balanced_accuracy: 0.628 (train), 0.629 (val)\n",
      "Epoch 6/10: Loss: 1.155 (train), 1.165 (val), accuracy: 0.641 (train), 0.641 (val), f1: 0.639 (train), 0.637 (val), balanced_accuracy: 0.633 (train), 0.634 (val)\n",
      "Epoch 7/10: Loss: 1.145 (train), 1.160 (val), accuracy: 0.644 (train), 0.641 (val), f1: 0.642 (train), 0.636 (val), balanced_accuracy: 0.636 (train), 0.630 (val)\n",
      "Epoch 8/10: Loss: 1.138 (train), 1.149 (val), accuracy: 0.647 (train), 0.647 (val), f1: 0.644 (train), 0.645 (val), balanced_accuracy: 0.638 (train), 0.640 (val)\n",
      "Epoch 9/10: Loss: 1.131 (train), 1.146 (val), accuracy: 0.649 (train), 0.646 (val), f1: 0.647 (train), 0.645 (val), balanced_accuracy: 0.641 (train), 0.639 (val)\n",
      "Epoch 10/10: Loss: 1.126 (train), 1.147 (val), accuracy: 0.651 (train), 0.647 (val), f1: 0.648 (train), 0.643 (val), balanced_accuracy: 0.642 (train), 0.641 (val)\n"
     ]
    }
   ],
   "source": [
    "mlp = MLP(node_features.shape[1], len(torch.unique(data.y)))\n",
    "\n",
    "results = experiment(mlp, train_loader, val_loader)\n"
   ]
  },
  {
   "cell_type": "code",
   "execution_count": 9,
   "metadata": {},
   "outputs": [],
   "source": [
    "#save model\n",
    "torch.save(results['model'], 'mlp.pt')"
   ]
  },
  {
   "cell_type": "code",
   "execution_count": 10,
   "metadata": {},
   "outputs": [],
   "source": [
    "# svm = SVMClassifier(node_features.shape[1], len(torch.unique(data.y)))\n",
    "\n",
    "# svm.fit(x_train, y_train)\n",
    "\n",
    "# svm.predict(x_val)"
   ]
  },
  {
   "cell_type": "code",
   "execution_count": 11,
   "metadata": {},
   "outputs": [
    {
     "name": "stdout",
     "output_type": "stream",
     "text": [
      "Accuracy: 0.16968567592008987\n"
     ]
    }
   ],
   "source": [
    "log_reg = LogisticRegression(node_features.shape[1], len(torch.unique(data.y)))\n",
    "\n",
    "log_reg.fit(x_train, y_train)\n",
    "\n",
    "y_pred = log_reg.predict(x_val)\n",
    "\n",
    "print(f'Accuracy: {accuracy(y_pred, y_val)}')"
   ]
  }
 ],
 "metadata": {
  "kernelspec": {
   "display_name": "rigged",
   "language": "python",
   "name": "python3"
  },
  "language_info": {
   "codemirror_mode": {
    "name": "ipython",
    "version": 3
   },
   "file_extension": ".py",
   "mimetype": "text/x-python",
   "name": "python",
   "nbconvert_exporter": "python",
   "pygments_lexer": "ipython3",
   "version": "3.10.15"
  }
 },
 "nbformat": 4,
 "nbformat_minor": 2
}
