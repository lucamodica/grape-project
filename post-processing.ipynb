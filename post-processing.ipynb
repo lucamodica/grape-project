{
 "cells": [
  {
   "cell_type": "code",
   "execution_count": null,
   "metadata": {},
   "outputs": [],
   "source": [
    "import pandas as pd\n",
    "\n",
    "# Load the Parquet file\n",
    "file_path = 'data/amazon_product_data_preprocessed_text.parquet'\n",
    "amazon_product_data = pd.read_parquet(file_path)\n",
    "\n",
    "# Display the first few rows of the dataframe\n",
    "amazon_product_data.head()"
   ]
  },
  {
   "cell_type": "code",
   "execution_count": null,
   "metadata": {},
   "outputs": [],
   "source": [
    "import matplotlib.pyplot as plt\n",
    "\n",
    "# Get the value counts of the main_category column\n",
    "value_counts = amazon_product_data['main_category'].value_counts()\n",
    "\n",
    "# Plot a bar chart of the main categories\n",
    "plt.figure(figsize=(15, 6))\n",
    "plt.bar(value_counts.index, value_counts.values)\n",
    "plt.xticks(rotation=90)\n",
    "plt.title('Main Category Distribution')\n",
    "plt.show()"
   ]
  },
  {
   "cell_type": "code",
   "execution_count": null,
   "metadata": {},
   "outputs": [],
   "source": [
    "#include only rows from the top 10 main categories\n",
    "top_categories = value_counts.head(10).index\n",
    "amazon_product_data_top_categories = amazon_product_data[amazon_product_data['main_category'].isin(top_categories)]\n",
    "amazon_product_data_top_categories.head()"
   ]
  },
  {
   "cell_type": "code",
   "execution_count": null,
   "metadata": {},
   "outputs": [],
   "source": [
    "plt.figure(figsize=(15, 6))\n",
    "plt.bar(amazon_product_data_top_categories['main_category'].value_counts().index, amazon_product_data_top_categories['main_category'].value_counts().values)\n",
    "plt.xticks(rotation=90)\n",
    "plt.title('Main Category Distribution')\n",
    "plt.show()\n"
   ]
  },
  {
   "cell_type": "code",
   "execution_count": null,
   "metadata": {},
   "outputs": [],
   "source": [
    "#load the file amazon_product_edges.parquet and remove the rows where asin in \"to\" or \"from\" columns is not in the asin column of the amazon_product_data dataframe\n",
    "file_path = 'data/amazon_product_edges.parquet'\n",
    "amazon_product_edges = pd.read_parquet(file_path)\n",
    "\n",
    "#print length before removing rows\n",
    "print(len(amazon_product_edges))\n",
    "\n",
    "# Remove rows where the 'to' column is not in the 'asin' column of the amazon_product_data dataframe\n",
    "amazon_product_edges = amazon_product_edges[amazon_product_edges['to_asin'].isin(amazon_product_data_top_categories['asin'])]\n",
    "\n",
    "print(len(amazon_product_edges))\n",
    "\n",
    "# Remove rows where the 'from' column is not in the 'asin' column of the amazon_product_data dataframe\n",
    "amazon_product_edges = amazon_product_edges[amazon_product_edges['from_asin'].isin(amazon_product_data_top_categories['asin'])]\n",
    "\n",
    "# Display the first few rows of the dataframe\n",
    "print(len(amazon_product_edges))\n",
    "amazon_product_edges.head()"
   ]
  },
  {
   "cell_type": "code",
   "execution_count": 23,
   "metadata": {},
   "outputs": [],
   "source": [
    "#save the dataframes amazon_product_data_top_categories and amazon_product_edges to parquet files\n",
    "amazon_product_data_top_categories.to_parquet('data/amazon_product_data_top_categories.parquet')\n",
    "amazon_product_edges.to_parquet('data/amazon_product_edges_filtered.parquet')"
   ]
  },
  {
   "cell_type": "code",
   "execution_count": null,
   "metadata": {},
   "outputs": [],
   "source": [
    "#for every row in edges, confirm that it is in amazon_product_data_top_categories\n",
    "edges = amazon_product_edges\n",
    "data = amazon_product_data_top_categories\n",
    "\n",
    "# Check if the 'to' column is in the 'asin' column of the amazon_product_data dataframe\n",
    "edges['to_in_data'] = edges['to_asin'].isin(data['asin'])\n",
    "\n",
    "# Check if the 'from' column is in the 'asin' column of the amazon_product_data dataframe\n",
    "edges['from_in_data'] = edges['from_asin'].isin(data['asin'])\n",
    "\n",
    "# Display the first few rows of the dataframe\n",
    "edges.head()\n",
    "\n",
    "# Check if there are any rows where 'to_in_data' is False\n",
    "print(edges['to_in_data'].value_counts())\n"
   ]
  },
  {
   "cell_type": "code",
   "execution_count": null,
   "metadata": {},
   "outputs": [],
   "source": [
    "amazon_product_data_top_categories.head()"
   ]
  },
  {
   "cell_type": "code",
   "execution_count": 4,
   "metadata": {},
   "outputs": [
    {
     "name": "stdout",
     "output_type": "stream",
     "text": [
      "to_in_data\n",
      "True    680548\n",
      "Name: count, dtype: int64\n"
     ]
    }
   ],
   "source": [
    "import pandas as pd\n",
    "#load the file amazon_product_data_top_categories.parquet\n",
    "file_path = 'data/amazon_product_data_top_categories.parquet'\n",
    "amazon_product_data_top_categories = pd.read_parquet(file_path)\n",
    "\n",
    "#load the file amazon_product_edges_filtered.parquet\n",
    "file_path = 'data/amazon_product_edges_filtered.parquet'\n",
    "amazon_product_edges = pd.read_parquet(file_path)\n",
    "\n",
    "#for every row in edges, confirm that it is in amazon_product_data_top_categories\n",
    "edges = amazon_product_edges\n",
    "data = amazon_product_data_top_categories\n",
    "\n",
    "# Check if the 'to' column is in the 'asin' column of the amazon_product_data dataframe\n",
    "edges['to_in_data'] = edges['to_asin'].isin(data['asin'])\n",
    "\n",
    "# Check if the 'from' column is in the 'asin' column of the amazon_product_data dataframe\n",
    "edges['from_in_data'] = edges['from_asin'].isin(data['asin'])\n",
    "\n",
    "# Display the first few rows of the dataframe\n",
    "edges.head()\n",
    "\n",
    "# Check if there are any rows where 'to_in_data' is False\n",
    "print(edges['to_in_data'].value_counts())"
   ]
  },
  {
   "cell_type": "code",
   "execution_count": 5,
   "metadata": {},
   "outputs": [
    {
     "name": "stdout",
     "output_type": "stream",
     "text": [
      "(729819, 7)\n"
     ]
    }
   ],
   "source": [
    "print(data.shape)"
   ]
  }
 ],
 "metadata": {
  "kernelspec": {
   "display_name": "rigged",
   "language": "python",
   "name": "python3"
  },
  "language_info": {
   "codemirror_mode": {
    "name": "ipython",
    "version": 3
   },
   "file_extension": ".py",
   "mimetype": "text/x-python",
   "name": "python",
   "nbconvert_exporter": "python",
   "pygments_lexer": "ipython3",
   "version": "3.10.15"
  }
 },
 "nbformat": 4,
 "nbformat_minor": 2
}
