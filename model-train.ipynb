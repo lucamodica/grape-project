{
 "cells": [
  {
   "cell_type": "markdown",
   "metadata": {},
   "source": [
    "# GNN\n",
    "---"
   ]
  },
  {
   "cell_type": "markdown",
   "metadata": {},
   "source": [
    "## Import"
   ]
  },
  {
   "cell_type": "code",
   "execution_count": 2,
   "metadata": {},
   "outputs": [
    {
     "name": "stderr",
     "output_type": "stream",
     "text": [
      "/home/lucamodica/mambaforge/envs/rigged/lib/python3.11/site-packages/tqdm/auto.py:21: TqdmWarning: IProgress not found. Please update jupyter and ipywidgets. See https://ipywidgets.readthedocs.io/en/stable/user_install.html\n",
      "  from .autonotebook import tqdm as notebook_tqdm\n"
     ]
    }
   ],
   "source": [
    "import torch\n",
    "import matplotlib.pyplot as plt\n",
    "#import networkx as nx\n",
    "import numpy as np\n",
    "import pandas as pd\n",
    "from torch_geometric.loader import DataLoader\n",
    "from torch_geometric.loader import NeighborLoader\n",
    "from torch_geometric.data import Data\n",
    "from models import *\n",
    "from umap import UMAP\n",
    "from sklearn.metrics import confusion_matrix\n",
    "import seaborn as sns\n",
    "import matplotlib.pyplot as plt\n",
    "\n",
    "np.random.seed(0)"
   ]
  },
  {
   "cell_type": "markdown",
   "metadata": {},
   "source": [
    "## Read, understand and prepare the data"
   ]
  },
  {
   "cell_type": "code",
   "execution_count": 3,
   "metadata": {},
   "outputs": [
    {
     "name": "stderr",
     "output_type": "stream",
     "text": [
      "/tmp/ipykernel_353214/3572797212.py:2: FutureWarning: You are using `torch.load` with `weights_only=False` (the current default value), which uses the default pickle module implicitly. It is possible to construct malicious pickle data which will execute arbitrary code during unpickling (See https://github.com/pytorch/pytorch/blob/main/SECURITY.md#untrusted-models for more details). In a future release, the default value for `weights_only` will be flipped to `True`. This limits the functions that could be executed during unpickling. Arbitrary objects will no longer be allowed to be loaded via this mode unless they are explicitly allowlisted by the user via `torch.serialization.add_safe_globals`. We recommend you start setting `weights_only=True` for any use case where you don't have full control of the loaded file. Please open an issue on GitHub for any issues related to this experimental feature.\n",
      "  data: Data = torch.load('data/amazon_product_data_sum_all.pt')\n"
     ]
    }
   ],
   "source": [
    "node_data = pd.read_parquet('data/amazon_product_data_word2vec.parquet')\n",
    "data: Data = torch.load('data/amazon_product_data_sum_all.pt')\n",
    "data.num_classes = data.y.unique().shape[0]"
   ]
  },
  {
   "cell_type": "markdown",
   "metadata": {},
   "source": [
    "### Main info"
   ]
  },
  {
   "cell_type": "code",
   "execution_count": 4,
   "metadata": {},
   "outputs": [
    {
     "name": "stdout",
     "output_type": "stream",
     "text": [
      "data Data(x=[729819, 300], edge_index=[2, 680548], y=[729819], num_classes=10)\n",
      "num nodes 729819\n",
      "Num edges 680548\n",
      "num node features 300\n",
      "is undirected False\n",
      "is directed True\n",
      "num edge features 0\n",
      "num classes 10\n"
     ]
    }
   ],
   "source": [
    "print(\"data\", data)\n",
    "print(\"num nodes\", data.num_nodes)\n",
    "print(\"Num edges\", data.num_edges)\n",
    "print(\"num node features\", data.num_node_features)\n",
    "print(\"is undirected\", data.is_undirected())\n",
    "print(\"is directed\", data.is_directed())\n",
    "print(\"num edge features\", data.num_edge_features)\n",
    "print('num classes', data.num_classes)"
   ]
  },
  {
   "cell_type": "markdown",
   "metadata": {},
   "source": [
    "### Visualization"
   ]
  },
  {
   "cell_type": "code",
   "execution_count": 5,
   "metadata": {},
   "outputs": [],
   "source": [
    "def plot_class_distribution(raw_data: pd.DataFrame):\n",
    "  value_counts = raw_data['main_category'].value_counts()\n",
    "  \n",
    "  plt.figure(figsize=(15, 6))\n",
    "  plt.bar(value_counts.index, value_counts.values)\n",
    "  plt.xticks([])\n",
    "  plt.title('Class Distribution')\n",
    "  plt.show()\n",
    "\n",
    "def visualize(h, color, additional_text=None):\n",
    "  z = UMAP(n_components=2).fit_transform(h.detach().cpu().numpy())\n",
    "\n",
    "  plt.figure(figsize=(8, 8))\n",
    "  plt.xticks([])\n",
    "  plt.yticks([])\n",
    "\n",
    "  plt.title(f'Embedding visualizaation {additional_text}')\n",
    "  plt.scatter(z[:, 0], z[:, 1], s=50, c=color, cmap=\"Set2\", label=color)\n",
    "  plt.show()"
   ]
  },
  {
   "cell_type": "code",
   "execution_count": 6,
   "metadata": {},
   "outputs": [],
   "source": [
    "# plot_class_distribution(node_data)"
   ]
  },
  {
   "cell_type": "markdown",
   "metadata": {},
   "source": [
    "### Preparation for model training"
   ]
  },
  {
   "cell_type": "code",
   "execution_count": 7,
   "metadata": {},
   "outputs": [],
   "source": [
    "def create_masks(data, train_ratio, val_ratio):\n",
    "  num_nodes = data.num_nodes\n",
    "  indices = list(range(num_nodes))\n",
    "  np.random.shuffle(indices)\n",
    "  \n",
    "  # Create masks\n",
    "  train_mask = torch.zeros(num_nodes, dtype=torch.bool)\n",
    "  val_mask = torch.zeros(num_nodes, dtype=torch.bool)\n",
    "  test_mask = torch.zeros(num_nodes, dtype=torch.bool)\n",
    "  \n",
    "  # Set proportions for train, val, and test\n",
    "  train_end = int(train_ratio * num_nodes)\n",
    "  val_end = train_end + int(val_ratio * num_nodes)\n",
    "  train_mask[indices[:train_end]] = True\n",
    "  val_mask[indices[train_end:val_end]] = True\n",
    "  test_mask[indices[val_end:]] = True\n",
    "  \n",
    "  # Assign the custom masks to the dataset\n",
    "  data.train_mask = train_mask\n",
    "  data.val_mask = val_mask\n",
    "  data.test_mask = test_mask\n",
    "\n",
    "\n",
    "def train_test_split_graph(data: Data, train_ratio: float, val_ratio: float, batch_size: int):\n",
    "    \"\"\"\n",
    "    Split the graph data into train, validation, and test sets\n",
    "    :param data: The graph data\n",
    "    :param train_ratio: The ratio of the training set\n",
    "    :param val_ratio: The ratio of the validation set\n",
    "    :param batch_size: The batch size\n",
    "    \n",
    "    :return: The train, validation, and test data loaders\n",
    "    \"\"\"\n",
    "\n",
    "    # Call the function to create masks\n",
    "    create_masks(data, train_ratio, val_ratio)\n",
    "\n",
    "    # train, validation, and test node indices based on the masks\n",
    "    train_idx = data.train_mask.nonzero(as_tuple=False).view(-1)\n",
    "    val_idx = data.val_mask.nonzero(as_tuple=False).view(-1)\n",
    "    test_idx = data.test_mask.nonzero(as_tuple=False).view(-1)\n",
    "    \n",
    "    def create_data_loader(data, indices):\n",
    "        return DataLoader(data[indices], batch_size=batch_size, shuffle=True)\n",
    "      \n",
    "    def create_neighbor_loader(data, indices, batch_size=batch_size):\n",
    "        return NeighborLoader(data, num_neighbors=[30] * 2, batch_size=batch_size, input_nodes=indices)\n",
    "\n",
    "    # create the data loaders\n",
    "    train_loader = create_neighbor_loader(data, train_idx)\n",
    "    val_loader = create_neighbor_loader(data, val_idx, batch_size=4096*2)\n",
    "    test_loader = create_neighbor_loader(data, test_idx)\n",
    "\n",
    "    return train_loader, val_loader, test_loader"
   ]
  },
  {
   "cell_type": "markdown",
   "metadata": {},
   "source": [
    "## Model training"
   ]
  },
  {
   "cell_type": "markdown",
   "metadata": {},
   "source": [
    "### Training functions"
   ]
  },
  {
   "cell_type": "code",
   "execution_count": 8,
   "metadata": {},
   "outputs": [],
   "source": [
    "from sklearn.metrics import f1_score, balanced_accuracy_score\n",
    "\n",
    "\n",
    "def accuracy(predictions, labels):\n",
    "    correct = (predictions.argmax(dim=1) == labels).sum().item()\n",
    "    total = labels.size(0)\n",
    "    return correct / total\n",
    "\n",
    "\n",
    "def f1(predictions, labels):\n",
    "    preds = predictions.argmax(dim=1).cpu().numpy()\n",
    "    labels = labels.cpu().numpy()\n",
    "    return f1_score(labels, preds, average='weighted')\n",
    "  \n",
    "def balanced_accuracy(predictions, labels):\n",
    "    preds = predictions.argmax(dim=1).cpu().numpy()\n",
    "    labels = labels.cpu().numpy()\n",
    "    return balanced_accuracy_score(labels, preds)"
   ]
  },
  {
   "cell_type": "code",
   "execution_count": 9,
   "metadata": {},
   "outputs": [
    {
     "name": "stdout",
     "output_type": "stream",
     "text": [
      "Validation set size 72981\n"
     ]
    },
    {
     "name": "stderr",
     "output_type": "stream",
     "text": [
      "/home/lucamodica/mambaforge/envs/rigged/lib/python3.11/site-packages/torch_geometric/sampler/neighbor_sampler.py:61: UserWarning: Using 'NeighborSampler' without a 'pyg-lib' installation is deprecated and will be removed soon. Please install 'pyg-lib' for accelerated neighborhood sampling\n",
      "  warnings.warn(f\"Using '{self.__class__.__name__}' without a \"\n"
     ]
    }
   ],
   "source": [
    "# print the size of the validation set\n",
    "train_loader, val_loader, test_loader = train_test_split_graph(data, 0.8, 0.1, 4096)\n",
    "print(\"Validation set size\", len(val_loader.dataset))"
   ]
  },
  {
   "cell_type": "code",
   "execution_count": 10,
   "metadata": {},
   "outputs": [],
   "source": [
    "# visualize the embedding of the last batch in the validation loader\n",
    "# for batch in val_loader:\n",
    "#   h = batch.x\n",
    "#   color = batch.y\n",
    "  \n",
    "# visualize(h, color, '(before training)')"
   ]
  },
  {
   "cell_type": "code",
   "execution_count": 11,
   "metadata": {},
   "outputs": [],
   "source": [
    "def train_epoch(model, optimizer, loss_fn, train_loader, device, metrics):\n",
    "    model.train()\n",
    "    all_preds = []\n",
    "    all_labels = []\n",
    "    losses = []\n",
    "\n",
    "    for batch in train_loader:\n",
    "        optimizer.zero_grad()\n",
    "        batch = batch.to(device)\n",
    "\n",
    "        out, h = model(batch.x, batch.edge_index)  # Receive only one output\n",
    "        loss = loss_fn(out, batch.y)\n",
    "        loss.backward()\n",
    "        optimizer.step()\n",
    "\n",
    "        losses.append(loss.item())\n",
    "        all_preds.append(out.detach().cpu())\n",
    "        all_labels.append(batch.y.detach().cpu())\n",
    "        \n",
    "    # Concatenate all predictions and labels\n",
    "    all_preds = torch.cat(all_preds)\n",
    "    all_labels = torch.cat(all_labels)\n",
    "\n",
    "    # Compute metrics on the entire dataset\n",
    "    avg_metrics = {metric_name: metric_fn(all_preds, all_labels) \n",
    "                  for metric_name, metric_fn in metrics.items()}\n",
    "    avg_loss = np.mean(losses)\n",
    "\n",
    "    return avg_loss, avg_metrics\n",
    "\n",
    "@torch.no_grad()\n",
    "def validate(model, loss_fn, val_loader: NeighborLoader, device, metrics, epoch=0):\n",
    "    model.eval()\n",
    "    all_preds = []\n",
    "    all_labels = []\n",
    "    losses = []\n",
    "\n",
    "    for batch in val_loader:\n",
    "        batch = batch.to(device)\n",
    "        out, h = model(batch.x, batch.edge_index)\n",
    "        loss = loss_fn(out, batch.y)\n",
    "\n",
    "        losses.append(loss.item())\n",
    "        all_preds.append(out.detach().cpu())\n",
    "        all_labels.append(batch.y.detach().cpu())\n",
    "        \n",
    "    with torch.no_grad():\n",
    "      _, h = model(batch.x, batch.edge_index)\n",
    "      visualize(h, batch.y, (f'Epoch {epoch}, {model.__class__.__name__}'))\n",
    "\n",
    "    # Concatenate all predictions and labels\n",
    "    all_preds = torch.cat(all_preds)\n",
    "    all_labels = torch.cat(all_labels)\n",
    "\n",
    "    # Compute metrics on the entire dataset\n",
    "    avg_metrics = {metric_name: metric_fn(all_preds, all_labels) \n",
    "                  for metric_name, metric_fn in metrics.items()}\n",
    "    avg_loss = np.mean(losses)\n",
    "\n",
    "    return avg_loss, avg_metrics\n",
    "\n",
    "def training_loop(model, optimizer, loss_fn, train_loader, val_loader, num_epochs, device, metrics):\n",
    "    print(\"Starting training\")\n",
    "    train_losses, val_losses = [], []\n",
    "    train_metrics_history = {metric_name: [] for metric_name in metrics}\n",
    "    val_metrics_history = {metric_name: [] for metric_name in metrics}\n",
    "\n",
    "    for epoch in range(1, num_epochs + 1):\n",
    "        # Training\n",
    "        train_loss, train_metrics = train_epoch(\n",
    "            model, optimizer, loss_fn, train_loader, device, metrics)\n",
    "        # Validation\n",
    "        val_loss, val_metrics = validate(\n",
    "            model, loss_fn, val_loader, device, metrics, epoch)\n",
    "        \n",
    "        # Logging results\n",
    "        train_losses.append(train_loss)\n",
    "        val_losses.append(val_loss)\n",
    "        for metric_name in metrics:\n",
    "            train_metrics_history[metric_name].append(train_metrics[metric_name])\n",
    "            val_metrics_history[metric_name].append(val_metrics[metric_name])\n",
    "\n",
    "        # Print metrics\n",
    "        metrics_str = ', '.join(\n",
    "            [f'{metric_name}: {train_metrics[metric_name]:.3f} (train), {val_metrics[metric_name]:.3f} (val)'\n",
    "             for metric_name in metrics])\n",
    "        print(\n",
    "            f\"Epoch {epoch}/{num_epochs}: \"\n",
    "            f\"Loss: {train_loss:.3f} (train), {val_loss:.3f} (val), \"\n",
    "            f\"{metrics_str}\"\n",
    "        )\n",
    "\n",
    "    return model, train_losses, val_losses, train_metrics_history, val_metrics_history"
   ]
  },
  {
   "cell_type": "markdown",
   "metadata": {},
   "source": [
    "### Actual training"
   ]
  },
  {
   "cell_type": "markdown",
   "metadata": {},
   "source": [
    "## Experiment"
   ]
  },
  {
   "cell_type": "code",
   "execution_count": 12,
   "metadata": {},
   "outputs": [],
   "source": [
    "device = torch.device('cuda' if torch.cuda.is_available() else 'cpu')\n",
    "data = data.to(device)\n",
    "train_ratio = 0.8\n",
    "val_ratio = 0.1\n",
    "learning_rate = 0.01  \n",
    "batch_size = 64\n",
    "  \n",
    "train_loader, val_loader, test_loader = train_test_split_graph(\n",
    "      data, train_ratio, val_ratio, batch_size)"
   ]
  },
  {
   "cell_type": "code",
   "execution_count": 13,
   "metadata": {},
   "outputs": [],
   "source": [
    "def gnn_experiment(model: GNN, train_loader: NeighborLoader, val_loader: NeighborLoader, num_epochs=10):\n",
    "  print(f'Traiming {model.__class__.__name__}')\n",
    "  \n",
    "  optimizer = torch.optim.Adam(model.parameters(), lr=learning_rate)\n",
    "  \n",
    "  # create a proper weight vector for the loss function\n",
    "  # class_counts = torch.bincount(data.y)\n",
    "  # print(class_counts)\n",
    "  # class_weights = 1 / class_counts.float()\n",
    "  loss_fn = torch.nn.CrossEntropyLoss()\n",
    "  \n",
    "  metrics = {\n",
    "    'accuracy': accuracy,\n",
    "    'f1': f1,\n",
    "    'balanced_accuracy': balanced_accuracy,\n",
    "  }\n",
    "  \n",
    "  # Train the model\n",
    "  model, train_losses, val_losses, train_metrics_history, val_metrics_history = training_loop(\n",
    "    model, optimizer, loss_fn, train_loader, val_loader, num_epochs=num_epochs, device=device, metrics=metrics\n",
    "  )\n",
    "  \n",
    "  print(f'Training {model.__class__.__name__} finished!')\n",
    "  return {\n",
    "    'model': model,\n",
    "    'train_losses': train_losses,\n",
    "    'val_losses': val_losses,\n",
    "    'train_metrics_history': train_metrics_history,\n",
    "    'val_metrics_history': val_metrics_history\n",
    "  }"
   ]
  },
  {
   "cell_type": "code",
   "execution_count": 14,
   "metadata": {},
   "outputs": [],
   "source": [
    "gcn = GCN(in_channels=data.num_node_features, hidden_channels=64, out_channels=data.num_classes).to(device)\n",
    "gat = GAT(in_channels=data.num_node_features, hidden_channels=64, out_channels=data.num_classes, num_heads=8)\n",
    "gin = GIN(in_channels=data.num_node_features, hidden_channels=64, out_channels=data.num_classes)\n",
    "gsage = GraphSAGE(in_channels=data.num_node_features, hidden_channels=64, out_channels=data.num_classes)\n",
    "\n",
    "model_list = [gcn, gat, gin, gsage]"
   ]
  },
  {
   "cell_type": "code",
   "execution_count": 15,
   "metadata": {},
   "outputs": [],
   "source": [
    "# testing the gnn experiment function for all models\n",
    "# test = gnn_experiment(gcn, train_loader, val_loader, num_epochs=1)\n",
    "# test = gnn_experiment(gat, train_loader, val_loader, num_epochs=10)\n",
    "# test = gnn_experiment(gin, train_loader, val_loader, num_epochs=1)\n",
    "# test = gnn_experiment(gin, train_loader, val_loader, num_epochs=1)"
   ]
  },
  {
   "cell_type": "code",
   "execution_count": 16,
   "metadata": {},
   "outputs": [],
   "source": [
    "\n",
    "# results_dict = { model.__class__.__name__: gnn_experiment(model, train_loader, val_loader, num_epochs=10) for model in model_list }\n"
   ]
  },
  {
   "cell_type": "code",
   "execution_count": 17,
   "metadata": {},
   "outputs": [],
   "source": [
    "# saving the results per class\n",
    "# torch.save(results_dict[gcn.__class__.__name__], f'output-no-cat/{gcn.__class__.__name__}-results-dict.pt')\n",
    "# torch.save(results_dict[gat.__class__.__name__],f'output-no-cat/{gat.__class__.__name__}-results-dict.pt')\n",
    "# torch.save(results_dict[gsage.__class__.__name__],f'output-no-cat/{gsage.__class__.__name__}-results-dict.pt')\n",
    "# torch.save(results_dict[gin.__class__.__name__],f'output-no-cat/{gin.__class__.__name__}-results-dict.pt')"
   ]
  },
  {
   "cell_type": "code",
   "execution_count": 18,
   "metadata": {},
   "outputs": [],
   "source": [
    "# results = gnn_experiment(gat, train_loader, val_loader, num_epochs=10)"
   ]
  },
  {
   "cell_type": "code",
   "execution_count": 30,
   "metadata": {},
   "outputs": [
    {
     "name": "stdout",
     "output_type": "stream",
     "text": [
      "MLP(\n",
      "  (layers): ModuleList(\n",
      "    (0): Linear(in_features=300, out_features=128, bias=True)\n",
      "    (1): Linear(in_features=128, out_features=10, bias=True)\n",
      "  )\n",
      ")\n"
     ]
    },
    {
     "name": "stderr",
     "output_type": "stream",
     "text": [
      "/tmp/ipykernel_353214/3806434575.py:3: FutureWarning: You are using `torch.load` with `weights_only=False` (the current default value), which uses the default pickle module implicitly. It is possible to construct malicious pickle data which will execute arbitrary code during unpickling (See https://github.com/pytorch/pytorch/blob/main/SECURITY.md#untrusted-models for more details). In a future release, the default value for `weights_only` will be flipped to `True`. This limits the functions that could be executed during unpickling. Arbitrary objects will no longer be allowed to be loaded via this mode unless they are explicitly allowlisted by the user via `torch.serialization.add_safe_globals`. We recommend you start setting `weights_only=True` for any use case where you don't have full control of the loaded file. Please open an issue on GitHub for any issues related to this experimental feature.\n",
      "  gcn.__class__.__name__: torch.load(f'output/{gcn.__class__.__name__}-results-dict.pt'),\n",
      "/tmp/ipykernel_353214/3806434575.py:4: FutureWarning: You are using `torch.load` with `weights_only=False` (the current default value), which uses the default pickle module implicitly. It is possible to construct malicious pickle data which will execute arbitrary code during unpickling (See https://github.com/pytorch/pytorch/blob/main/SECURITY.md#untrusted-models for more details). In a future release, the default value for `weights_only` will be flipped to `True`. This limits the functions that could be executed during unpickling. Arbitrary objects will no longer be allowed to be loaded via this mode unless they are explicitly allowlisted by the user via `torch.serialization.add_safe_globals`. We recommend you start setting `weights_only=True` for any use case where you don't have full control of the loaded file. Please open an issue on GitHub for any issues related to this experimental feature.\n",
      "  gat.__class__.__name__: torch.load(f'output/{gat.__class__.__name__}-results-dict.pt'),\n",
      "/tmp/ipykernel_353214/3806434575.py:5: FutureWarning: You are using `torch.load` with `weights_only=False` (the current default value), which uses the default pickle module implicitly. It is possible to construct malicious pickle data which will execute arbitrary code during unpickling (See https://github.com/pytorch/pytorch/blob/main/SECURITY.md#untrusted-models for more details). In a future release, the default value for `weights_only` will be flipped to `True`. This limits the functions that could be executed during unpickling. Arbitrary objects will no longer be allowed to be loaded via this mode unless they are explicitly allowlisted by the user via `torch.serialization.add_safe_globals`. We recommend you start setting `weights_only=True` for any use case where you don't have full control of the loaded file. Please open an issue on GitHub for any issues related to this experimental feature.\n",
      "  'GraphSAGE': torch.load(f'output/GraphSAGE-results-dict.pt'),\n",
      "/tmp/ipykernel_353214/3806434575.py:6: FutureWarning: You are using `torch.load` with `weights_only=False` (the current default value), which uses the default pickle module implicitly. It is possible to construct malicious pickle data which will execute arbitrary code during unpickling (See https://github.com/pytorch/pytorch/blob/main/SECURITY.md#untrusted-models for more details). In a future release, the default value for `weights_only` will be flipped to `True`. This limits the functions that could be executed during unpickling. Arbitrary objects will no longer be allowed to be loaded via this mode unless they are explicitly allowlisted by the user via `torch.serialization.add_safe_globals`. We recommend you start setting `weights_only=True` for any use case where you don't have full control of the loaded file. Please open an issue on GitHub for any issues related to this experimental feature.\n",
      "  gin.__class__.__name__: torch.load(f'output/{gin.__class__.__name__}-results-dict.pt'),\n",
      "/tmp/ipykernel_353214/3806434575.py:7: FutureWarning: You are using `torch.load` with `weights_only=False` (the current default value), which uses the default pickle module implicitly. It is possible to construct malicious pickle data which will execute arbitrary code during unpickling (See https://github.com/pytorch/pytorch/blob/main/SECURITY.md#untrusted-models for more details). In a future release, the default value for `weights_only` will be flipped to `True`. This limits the functions that could be executed during unpickling. Arbitrary objects will no longer be allowed to be loaded via this mode unless they are explicitly allowlisted by the user via `torch.serialization.add_safe_globals`. We recommend you start setting `weights_only=True` for any use case where you don't have full control of the loaded file. Please open an issue on GitHub for any issues related to this experimental feature.\n",
      "  'mlp': torch.load(f'output/mlp-results-dict.pt')\n"
     ]
    }
   ],
   "source": [
    "# create the dict with the results for the models from the output folder\n",
    "results_dict = {\n",
    "    gcn.__class__.__name__: torch.load(f'output/{gcn.__class__.__name__}-results-dict.pt'),\n",
    "    gat.__class__.__name__: torch.load(f'output/{gat.__class__.__name__}-results-dict.pt'),\n",
    "    'GraphSAGE': torch.load(f'output/GraphSAGE-results-dict.pt'),\n",
    "    gin.__class__.__name__: torch.load(f'output/{gin.__class__.__name__}-results-dict.pt'),\n",
    "    'mlp': torch.load(f'output/mlp-results-dict.pt')\n",
    "}\n",
    "\n",
    "print(results_dict['mlp'])"
   ]
  },
  {
   "cell_type": "code",
   "execution_count": 20,
   "metadata": {},
   "outputs": [],
   "source": [
    "import matplotlib.pyplot as plt\n",
    "import itertools\n",
    "\n",
    "def plot_results(results_dict, num_epochs=10):\n",
    "    fig, axs = plt.subplots(2, 2, figsize=(15, 15))\n",
    "    axs = axs.flatten()\n",
    "    epochs = range(num_epochs)\n",
    "\n",
    "    # Define a color cycle to assign consistent colors per model\n",
    "    color_cycle = itertools.cycle(\n",
    "        plt.rcParams['axes.prop_cycle'].by_key()['color'])\n",
    "\n",
    "    # Dictionary to store the color for each model\n",
    "    model_colors = {}\n",
    "\n",
    "    # Plot training and validation losses in the first subplot\n",
    "    axs[0].set_title('Training Loss')\n",
    "    for model_name, result in results_dict.items():\n",
    "        # Assign a color to the model if it hasn't been assigned yet\n",
    "        if model_name not in model_colors:\n",
    "            model_colors[model_name] = next(color_cycle)\n",
    "\n",
    "        color = model_colors[model_name]\n",
    "        axs[0].plot(epochs, result['train_losses'],\n",
    "                    label=f'{model_name} (train)', color=color)\n",
    "        axs[0].plot(epochs, result['val_losses'],\n",
    "                    label=f'{model_name} (val)', color=color, linestyle='dashed')\n",
    "\n",
    "    axs[0].set_xlabel('Epoch')\n",
    "    axs[0].set_ylabel('Loss')\n",
    "    axs[0].set_xticks(ticks=epochs, labels=[str(i+1) for i in epochs])\n",
    "    axs[0].legend()\n",
    "\n",
    "    # Now plot the metrics in the remaining 3 subplots\n",
    "    metric_names = list(next(iter(results_dict.values()))[\n",
    "                        'train_metrics_history'].keys())  # Get metric names from the first model\n",
    "\n",
    "    for i, metric_name in enumerate(metric_names):\n",
    "        axs[i+1].set_title(metric_name)\n",
    "        for model_name, result in results_dict.items():\n",
    "            # Use the same color as for the loss plot\n",
    "            color = model_colors[model_name]\n",
    "            axs[i+1].plot(epochs, result['train_metrics_history']\n",
    "                          [metric_name], label=f'{model_name} (train)', color=color)\n",
    "            axs[i+1].plot(epochs, result['val_metrics_history'][metric_name],\n",
    "                          label=f'{model_name} (val)', color=color, linestyle='dashed')\n",
    "\n",
    "        axs[i+1].set_xlabel('Epoch')\n",
    "        axs[i+1].set_ylabel(metric_name)\n",
    "        axs[i+1].set_xticks(ticks=epochs, labels=[str(i+1) for i in epochs])\n",
    "        axs[i+1].legend()\n",
    "\n",
    "    plt.tight_layout()\n",
    "    plt.show()\n",
    "\n",
    "\n",
    "def plot_losses_and_f1(results_dict, num_epochs=10):\n",
    "    fig, axs = plt.subplots(1, 2, figsize=(15, 7))\n",
    "    epochs = range(num_epochs)\n",
    "\n",
    "    # Define a color cycle to assign consistent colors per model\n",
    "    color_cycle = itertools.cycle(\n",
    "        plt.rcParams['axes.prop_cycle'].by_key()['color'])\n",
    "\n",
    "    # Dictionary to store the color for each model\n",
    "    model_colors = {}\n",
    "\n",
    "    # Plot training and validation losses in the first subplot\n",
    "    axs[0].set_title('Training Loss')\n",
    "    for model_name, result in results_dict.items():\n",
    "        # Assign a color to the model if it hasn't been assigned yet\n",
    "        if model_name not in model_colors:\n",
    "            model_colors[model_name] = next(color_cycle)\n",
    "\n",
    "        color = model_colors[model_name]\n",
    "        axs[0].plot(epochs, result['train_losses'],\n",
    "                    label=f'{model_name} (train)', color=color)\n",
    "        axs[0].plot(epochs, result['val_losses'],\n",
    "                    label=f'{model_name} (val)', color=color, linestyle='dashed')\n",
    "\n",
    "    axs[0].set_xlabel('Epoch')\n",
    "    axs[0].set_ylabel('Loss')\n",
    "    axs[0].set_xticks(ticks=epochs, labels=[str(i+1) for i in epochs])\n",
    "    axs[0].legend()\n",
    "\n",
    "    # Plot F1 scores in the second subplot\n",
    "    axs[1].set_title('F1 Score')\n",
    "    for model_name, result in results_dict.items():\n",
    "        # Use the same color as for the loss plot\n",
    "        color = model_colors[model_name]\n",
    "        axs[1].plot(epochs, result['train_metrics_history']['f1'],\n",
    "                    label=f'{model_name} (train)', color=color)\n",
    "        axs[1].plot(epochs, result['val_metrics_history']['f1'],\n",
    "                    label=f'{model_name} (val)', color=color, linestyle='dashed')\n",
    "\n",
    "    axs[1].set_xlabel('Epoch')\n",
    "    axs[1].set_ylabel('F1 Score')\n",
    "    axs[1].set_xticks(ticks=epochs, labels=[str(i+1) for i in epochs])\n",
    "    axs[1].legend()\n",
    "\n",
    "    plt.tight_layout()\n",
    "    plt.show()\n",
    "\n",
    "def plot_f1(results_dict):\n",
    "    fig, axs = plt.subplots(1, 1, figsize=(7, 7))\n",
    "    epochs = range(10)\n",
    "\n",
    "    # Define a color cycle to assign consistent colors per model\n",
    "    color_cycle = itertools.cycle(\n",
    "        plt.rcParams['axes.prop_cycle'].by_key()['color'])\n",
    "\n",
    "    # Dictionary to store the color for each model\n",
    "    model_colors = {}\n",
    "    \n",
    "    # exclude GIN from the plot\n",
    "    results_dict.pop('GIN')\n",
    "\n",
    "    # Plot F1 scores in the second subplot\n",
    "    axs.set_title('F1 Score')\n",
    "    for model_name, result in results_dict.items():\n",
    "        # Assign a color to the model if it hasn't been assigned yet\n",
    "        if model_name not in model_colors:\n",
    "            model_colors[model_name] = next(color_cycle)\n",
    "\n",
    "        color = model_colors[model_name]\n",
    "        axs.plot(epochs, result['val_metrics_history']['f1'],\n",
    "                    label=f'{model_name} (val)', color=color, linestyle='dashed')\n",
    "        axs.plot(epochs, result['train_metrics_history']['f1'],\n",
    "                 label=f'{model_name} (val)', color=color)\n",
    "\n",
    "    axs.set_xlabel('Epoch')\n",
    "    axs.set_ylabel('F1 Score')\n",
    "    axs.set_xticks(ticks=epochs, labels=[str(i+1) for i in epochs])\n",
    "    axs.legend()\n",
    "\n",
    "    plt.tight_layout()\n",
    "    plt.show()"
   ]
  },
  {
   "cell_type": "code",
   "execution_count": 29,
   "metadata": {},
   "outputs": [
    {
     "ename": "TypeError",
     "evalue": "'MLP' object is not subscriptable",
     "output_type": "error",
     "traceback": [
      "\u001b[0;31m---------------------------------------------------------------------------\u001b[0m",
      "\u001b[0;31mTypeError\u001b[0m                                 Traceback (most recent call last)",
      "Cell \u001b[0;32mIn[29], line 3\u001b[0m\n\u001b[1;32m      1\u001b[0m \u001b[38;5;66;03m# plot_results(results_dict)\u001b[39;00m\n\u001b[1;32m      2\u001b[0m \u001b[38;5;66;03m# plot_losses_and_f1(results_dict)\u001b[39;00m\n\u001b[0;32m----> 3\u001b[0m \u001b[43mplot_f1\u001b[49m\u001b[43m(\u001b[49m\u001b[43mresults_dict\u001b[49m\u001b[43m)\u001b[49m\n",
      "Cell \u001b[0;32mIn[20], line 126\u001b[0m, in \u001b[0;36mplot_f1\u001b[0;34m(results_dict)\u001b[0m\n\u001b[1;32m    123\u001b[0m         model_colors[model_name] \u001b[38;5;241m=\u001b[39m \u001b[38;5;28mnext\u001b[39m(color_cycle)\n\u001b[1;32m    125\u001b[0m     color \u001b[38;5;241m=\u001b[39m model_colors[model_name]\n\u001b[0;32m--> 126\u001b[0m     axs\u001b[38;5;241m.\u001b[39mplot(epochs, \u001b[43mresult\u001b[49m\u001b[43m[\u001b[49m\u001b[38;5;124;43m'\u001b[39;49m\u001b[38;5;124;43mval_metrics_history\u001b[39;49m\u001b[38;5;124;43m'\u001b[39;49m\u001b[43m]\u001b[49m[\u001b[38;5;124m'\u001b[39m\u001b[38;5;124mf1\u001b[39m\u001b[38;5;124m'\u001b[39m],\n\u001b[1;32m    127\u001b[0m                 label\u001b[38;5;241m=\u001b[39m\u001b[38;5;124mf\u001b[39m\u001b[38;5;124m'\u001b[39m\u001b[38;5;132;01m{\u001b[39;00mmodel_name\u001b[38;5;132;01m}\u001b[39;00m\u001b[38;5;124m (val)\u001b[39m\u001b[38;5;124m'\u001b[39m, color\u001b[38;5;241m=\u001b[39mcolor, linestyle\u001b[38;5;241m=\u001b[39m\u001b[38;5;124m'\u001b[39m\u001b[38;5;124mdashed\u001b[39m\u001b[38;5;124m'\u001b[39m)\n\u001b[1;32m    128\u001b[0m     axs\u001b[38;5;241m.\u001b[39mplot(epochs, result[\u001b[38;5;124m'\u001b[39m\u001b[38;5;124mtrain_metrics_history\u001b[39m\u001b[38;5;124m'\u001b[39m][\u001b[38;5;124m'\u001b[39m\u001b[38;5;124mf1\u001b[39m\u001b[38;5;124m'\u001b[39m],\n\u001b[1;32m    129\u001b[0m              label\u001b[38;5;241m=\u001b[39m\u001b[38;5;124mf\u001b[39m\u001b[38;5;124m'\u001b[39m\u001b[38;5;132;01m{\u001b[39;00mmodel_name\u001b[38;5;132;01m}\u001b[39;00m\u001b[38;5;124m (val)\u001b[39m\u001b[38;5;124m'\u001b[39m, color\u001b[38;5;241m=\u001b[39mcolor)\n\u001b[1;32m    131\u001b[0m axs\u001b[38;5;241m.\u001b[39mset_xlabel(\u001b[38;5;124m'\u001b[39m\u001b[38;5;124mEpoch\u001b[39m\u001b[38;5;124m'\u001b[39m)\n",
      "\u001b[0;31mTypeError\u001b[0m: 'MLP' object is not subscriptable"
     ]
    },
    {
     "data": {
      "image/png": "[encoded data removed]",
      "text/plain": [
       "<Figure size 700x700 with 1 Axes>"
      ]
     },
     "metadata": {},
     "output_type": "display_data"
    }
   ],
   "source": [
    "# plot_results(results_dict)\n",
    "# plot_losses_and_f1(results_dict)\n",
    "plot_f1(results_dict)"
   ]
  },
  {
   "cell_type": "code",
   "execution_count": null,
   "metadata": {},
   "outputs": [],
   "source": []
  },
  {
   "cell_type": "code",
   "execution_count": 22,
   "metadata": {},
   "outputs": [],
   "source": [
    "# # train the models and get the results\n",
    "# #for model in [gcn, gat, gin, gsage]:\n",
    "# results = gnn_experiment(gcn, train_loader, val_loader) \n",
    "#  # torch.save(results, f'{model.__class__.__name__}_results.pt')"
   ]
  },
  {
   "cell_type": "code",
   "execution_count": 23,
   "metadata": {},
   "outputs": [],
   "source": [
    "# # put all the results in a dataframe and display it as a table where it is easy to compare the models\n",
    "# results = []\n",
    "\n",
    "# for model in [gcn, gat, gin, gsage]:\n",
    "#   model_name = model.__class__.__name__\n",
    "#   results.append(torch.load(f'output/{model_name}_results.pt'))\n",
    "  \n",
    "# results_df = pd.DataFrame(results)\n",
    "# results_df['model'] = ['GCN', 'GAT', 'GIN', 'GraphSAGE']\n",
    "# results_df = results_df.set_index('model')\n",
    "# results_df"
   ]
  },
  {
   "cell_type": "markdown",
   "metadata": {},
   "source": [
    "## Evaluation"
   ]
  },
  {
   "cell_type": "code",
   "execution_count": 24,
   "metadata": {},
   "outputs": [],
   "source": [
    "def compute_test_confusion_matrix(model_name):\n",
    "  with torch.no_grad():\n",
    "    model = results_dict[model_name]['model']\n",
    "    \n",
    "    model.eval()\n",
    "    all_preds = []\n",
    "    all_labels = []\n",
    "    \n",
    "    for batch in test_loader:\n",
    "      batch = batch.to(device)\n",
    "      out, _ = model(batch.x, batch.edge_index)\n",
    "      all_preds.append(out)\n",
    "      all_labels.append(batch.y)\n",
    "      \n",
    "    all_preds = torch.cat(all_preds)\n",
    "    all_labels = torch.cat(all_labels)\n",
    "   \n",
    "    preds = all_preds.argmax(dim=1).cpu().numpy()\n",
    "    labels = all_labels.cpu().numpy()\n",
    "    cm = confusion_matrix(labels, preds)\n",
    "    plt.figure(figsize=(10, 10))\n",
    "    sns.heatmap(cm, annot=True, fmt='d', cmap='Blues', cbar=False)\n",
    "    plt.xlabel('Predicted')\n",
    "    plt.ylabel('Actual')\n",
    "    plt.title(f'Confusion Matrix for {model_name}')\n",
    "    plt.show()"
   ]
  },
  {
   "cell_type": "code",
   "execution_count": 25,
   "metadata": {},
   "outputs": [
    {
     "data": {
      "image/png": "[encoded data removed]",
      "text/plain": [
       "<Figure size 1000x1000 with 1 Axes>"
      ]
     },
     "metadata": {},
     "output_type": "display_data"
    }
   ],
   "source": [
    "# test confusion matrix\n",
    "compute_test_confusion_matrix(gat.__class__.__name__)"
   ]
  },
  {
   "cell_type": "markdown",
   "metadata": {},
   "source": [
    "## Explanation"
   ]
  },
  {
   "cell_type": "code",
   "execution_count": 26,
   "metadata": {
    "notebookRunGroups": {
     "groupValue": "2"
    }
   },
   "outputs": [],
   "source": [
    "# do the prediction for only a single sample in the dataset and use and explainer to explain the prediction\n",
    "\n",
    "from captum.attr import IntegratedGradients\n",
    "from captum.attr import LayerConductance\n",
    "from captum.attr import LayerIntegratedGradients\n",
    "from captum.attr import NeuronConductance\n",
    "from captum.attr import Saliency\n",
    "from captum.attr import visualization as viz\n",
    "\n",
    "def explain_prediction(model, data, idx):\n",
    "  # Get the model prediction\n",
    "  model.eval()\n",
    "  with torch.no_grad():\n",
    "    out, h = model(data.x, data.edge_index)\n",
    "    pred = out.argmax(dim=1)\n",
    "    pred_prob = torch.softmax(out, dim=1).max().item()\n",
    "    print(f'Predicted class: {pred.item}, Probability: {pred_prob:.3f}')\n",
    "    \n",
    "  # Create an IntegratedGradients object for the model\n",
    "  ig = IntegratedGradients(model)\n",
    "  \n",
    "  # Compute the attributions\n",
    "  attributions_ig = ig.attribute(data.x, target=pred, n_steps=200)\n",
    "  \n",
    "  # Visualize the attributions\n",
    "  _ = viz.visualize_node_weights(data.x.cpu(), attributions_ig.cpu(), method='blended_heat_map', cmap='coolwarm')\n",
    "  \n",
    "  return attributions_ig"
   ]
  },
  {
   "cell_type": "code",
   "execution_count": 27,
   "metadata": {},
   "outputs": [
    {
     "ename": "KeyError",
     "evalue": "0",
     "output_type": "error",
     "traceback": [
      "\u001b[0;31m---------------------------------------------------------------------------\u001b[0m",
      "\u001b[0;31mKeyError\u001b[0m                                  Traceback (most recent call last)",
      "Cell \u001b[0;32mIn[27], line 9\u001b[0m\n\u001b[1;32m      7\u001b[0m model\u001b[38;5;241m.\u001b[39meval()\n\u001b[1;32m      8\u001b[0m node_idx \u001b[38;5;241m=\u001b[39m \u001b[38;5;241m10\u001b[39m  \u001b[38;5;66;03m# Choose a node to explain\u001b[39;00m\n\u001b[0;32m----> 9\u001b[0m data \u001b[38;5;241m=\u001b[39m \u001b[43mtest_loader\u001b[49m\u001b[38;5;241;43m.\u001b[39;49m\u001b[43mdata\u001b[49m\u001b[43m[\u001b[49m\u001b[38;5;241;43m0\u001b[39;49m\u001b[43m]\u001b[49m\n\u001b[1;32m     10\u001b[0m logits \u001b[38;5;241m=\u001b[39m model(data\u001b[38;5;241m.\u001b[39mx, data\u001b[38;5;241m.\u001b[39medge_index)\n\u001b[1;32m     11\u001b[0m predicted_class \u001b[38;5;241m=\u001b[39m logits[node_idx]\u001b[38;5;241m.\u001b[39margmax(dim\u001b[38;5;241m=\u001b[39m\u001b[38;5;241m0\u001b[39m)\u001b[38;5;241m.\u001b[39mitem()\n",
      "File \u001b[0;32m~/mambaforge/envs/rigged/lib/python3.11/site-packages/torch_geometric/data/data.py:577\u001b[0m, in \u001b[0;36mData.__getitem__\u001b[0;34m(self, key)\u001b[0m\n\u001b[1;32m    576\u001b[0m \u001b[38;5;28;01mdef\u001b[39;00m \u001b[38;5;21m__getitem__\u001b[39m(\u001b[38;5;28mself\u001b[39m, key: \u001b[38;5;28mstr\u001b[39m) \u001b[38;5;241m-\u001b[39m\u001b[38;5;241m>\u001b[39m Any:\n\u001b[0;32m--> 577\u001b[0m     \u001b[38;5;28;01mreturn\u001b[39;00m \u001b[38;5;28;43mself\u001b[39;49m\u001b[38;5;241;43m.\u001b[39;49m\u001b[43m_store\u001b[49m\u001b[43m[\u001b[49m\u001b[43mkey\u001b[49m\u001b[43m]\u001b[49m\n",
      "File \u001b[0;32m~/mambaforge/envs/rigged/lib/python3.11/site-packages/torch_geometric/data/storage.py:118\u001b[0m, in \u001b[0;36mBaseStorage.__getitem__\u001b[0;34m(self, key)\u001b[0m\n\u001b[1;32m    117\u001b[0m \u001b[38;5;28;01mdef\u001b[39;00m \u001b[38;5;21m__getitem__\u001b[39m(\u001b[38;5;28mself\u001b[39m, key: \u001b[38;5;28mstr\u001b[39m) \u001b[38;5;241m-\u001b[39m\u001b[38;5;241m>\u001b[39m Any:\n\u001b[0;32m--> 118\u001b[0m     \u001b[38;5;28;01mreturn\u001b[39;00m \u001b[38;5;28;43mself\u001b[39;49m\u001b[38;5;241;43m.\u001b[39;49m\u001b[43m_mapping\u001b[49m\u001b[43m[\u001b[49m\u001b[43mkey\u001b[49m\u001b[43m]\u001b[49m\n",
      "\u001b[0;31mKeyError\u001b[0m: 0"
     ]
    }
   ],
   "source": [
    "from torch_geometric.utils import to_networkx\n",
    "import networkx as nx\n",
    "\n",
    "model: GAT = results_dict[gat.__class__.__name__]['model']\n",
    "\n",
    "# Model is now trained; let's use it to predict the class of a node\n",
    "model.eval()\n",
    "node_idx = 10  # Choose a node to explain\n",
    "data = test_loader.data[0]\n",
    "logits = model(data.x, data.edge_index)\n",
    "predicted_class = logits[node_idx].argmax(dim=0).item()\n",
    "true_class = data.y[node_idx].item()\n",
    "\n",
    "print(f\"Node {node_idx} - Predicted Class: {predicted_class}, True Class: {true_class}\")\n",
    "\n",
    "# Visualize the graph and the neighbors of the node\n",
    "G = to_networkx(data, to_undirected=True)\n",
    "plt.figure(figsize=(8, 8))\n",
    "pos = nx.spring_layout(G, seed=42)\n",
    "nx.draw(G, pos, node_color=data.y.cpu(), cmap=plt.get_cmap(\n",
    "    'Set3'), node_size=50, with_labels=False)\n",
    "nx.draw_networkx_nodes(\n",
    "    G, pos, nodelist=[node_idx], node_size=300, node_color='red')\n",
    "plt.show()\n",
    "\n",
    "# Print node features and neighbors\n",
    "print(f\"Node {node_idx} Features: {data.x[node_idx]}\")\n",
    "neighbors = data.edge_index[1][data.edge_index[0] == node_idx].cpu().numpy()\n",
    "print(f\"Node {node_idx} Neighbors: {neighbors}\")"
   ]
  },
  {
   "cell_type": "code",
   "execution_count": null,
   "metadata": {},
   "outputs": [],
   "source": []
  }
 ],
 "metadata": {
  "kernelspec": {
   "display_name": "rigged",
   "language": "python",
   "name": "python3"
  },
  "language_info": {
   "codemirror_mode": {
    "name": "ipython",
    "version": 3
   },
   "file_extension": ".py",
   "mimetype": "text/x-python",
   "name": "python",
   "nbconvert_exporter": "python",
   "pygments_lexer": "ipython3",
   "version": "3.11.10"
  }
 },
 "nbformat": 4,
 "nbformat_minor": 2
}
